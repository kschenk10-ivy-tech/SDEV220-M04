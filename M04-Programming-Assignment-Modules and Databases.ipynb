{
 "cells": [
  {
   "cell_type": "markdown",
   "id": "0606945f-3803-4035-aac7-652ea41c3a41",
   "metadata": {},
   "source": [
    "Khristin Schenk<br>\n",
    "Feb 10th, 2025<br>\n",
    "SDEV-220<br>\n",
    "\n",
    "# SDEV-220 | Module 4\n",
    "*Programming Assignment - Modules and Databases*"
   ]
  },
  {
   "cell_type": "markdown",
   "id": "8fa941f2",
   "metadata": {},
   "source": [
    "In the textbook: *Introducing Python, 2nd Edition*, By Bill Lubanovic: Navigate to the end of **Chapters 11 & 16** and complete the *Things to Do* sections: **11.1**, **11.2** & **16.8**"
   ]
  },
  {
   "cell_type": "markdown",
   "id": "a035f7eb",
   "metadata": {},
   "source": [
    "#### 11.1\n",
    "- [x] Create a file called `zoo.py`.\n",
    "- [x] In it, define a function called `hours()` that prints the string *'Open 9-5 daily'*.\n",
    "- [x] Then, use the interactive interpreter to import the zoo module and call its `hours()` function."
   ]
  },
  {
   "cell_type": "markdown",
   "id": "5d6105eb",
   "metadata": {},
   "source": [
    "- [x] Step 1: Create zoo.py"
   ]
  },
  {
   "cell_type": "code",
   "execution_count": 6,
   "id": "f22be3a6",
   "metadata": {},
   "outputs": [
    {
     "name": "stdout",
     "output_type": "stream",
     "text": [
      "Overwriting zoo.py\n"
     ]
    }
   ],
   "source": [
    "%%writefile zoo.py\n",
    "def hours():\n",
    "    print('Open 9-5 daily')"
   ]
  },
  {
   "cell_type": "markdown",
   "id": "93bb94b6",
   "metadata": {},
   "source": [
    "- [x] Step 2: Import and Call `hours()`"
   ]
  },
  {
   "cell_type": "code",
   "execution_count": 7,
   "id": "cf49d56b",
   "metadata": {},
   "outputs": [
    {
     "name": "stdout",
     "output_type": "stream",
     "text": [
      "Open 9-5 daily\n"
     ]
    }
   ],
   "source": [
    "import zoo\n",
    "\n",
    "zoo.hours()"
   ]
  },
  {
   "cell_type": "markdown",
   "id": "506f76f9",
   "metadata": {},
   "source": [
    "#### 11.2\n",
    "In the interactive interpreter, import the zoo module as menagerie and call its hours() function."
   ]
  },
  {
   "cell_type": "markdown",
   "id": "734b18cf",
   "metadata": {},
   "source": [
    "- [x] Import zoo as `menagerie`"
   ]
  },
  {
   "cell_type": "code",
   "execution_count": 8,
   "id": "e1dbce74",
   "metadata": {},
   "outputs": [
    {
     "name": "stdout",
     "output_type": "stream",
     "text": [
      "Open 9-5 daily\n"
     ]
    }
   ],
   "source": [
    "import zoo as menagerie\n",
    "\n",
    "menagerie.hours()"
   ]
  },
  {
   "cell_type": "markdown",
   "id": "a288dcb5",
   "metadata": {},
   "source": [
    "#### 16.8\n",
    "SQLAlchemy Query for `books.db`\n",
    "\n",
    "- [x] Prerequisite 1: Ensure books.db exists with a book table containing a title column.\n",
    "- [x] Prerequisite 2: Install SQLAlchemy"
   ]
  },
  {
   "cell_type": "markdown",
   "id": "7408ff03",
   "metadata": {},
   "source": [
    "**Step 1: Install SQLAlchemy (if not installed)**"
   ]
  },
  {
   "cell_type": "code",
   "execution_count": 9,
   "id": "266cb464",
   "metadata": {},
   "outputs": [
    {
     "name": "stdout",
     "output_type": "stream",
     "text": [
      "Requirement already satisfied: sqlalchemy in c:\\users\\khris\\anaconda3\\lib\\site-packages (2.0.34)\n",
      "Requirement already satisfied: typing-extensions>=4.6.0 in c:\\users\\khris\\anaconda3\\lib\\site-packages (from sqlalchemy) (4.11.0)\n",
      "Requirement already satisfied: greenlet!=0.4.17 in c:\\users\\khris\\anaconda3\\lib\\site-packages (from sqlalchemy) (3.0.1)\n"
     ]
    }
   ],
   "source": [
    "# Install SQLAlchemy\n",
    "!pip install sqlalchemy"
   ]
  },
  {
   "cell_type": "markdown",
   "id": "dc90b460",
   "metadata": {},
   "source": [
    "**Step 2: Define the Database Model and Query**"
   ]
  },
  {
   "cell_type": "code",
   "execution_count": 10,
   "id": "701fc911",
   "metadata": {},
   "outputs": [
    {
     "name": "stdout",
     "output_type": "stream",
     "text": [
      "Book Titles:\n"
     ]
    },
    {
     "name": "stderr",
     "output_type": "stream",
     "text": [
      "C:\\Users\\khris\\AppData\\Local\\Temp\\ipykernel_452\\768041792.py:7: MovedIn20Warning: The ``declarative_base()`` function is now available as sqlalchemy.orm.declarative_base(). (deprecated since: 2.0) (Background on SQLAlchemy 2.0 at: https://sqlalche.me/e/b8d9)\n",
      "  Base = declarative_base()\n"
     ]
    }
   ],
   "source": [
    "from sqlalchemy import create_engine, Column, Integer, String\n",
    "from sqlalchemy.ext.declarative import declarative_base\n",
    "from sqlalchemy.orm import sessionmaker\n",
    "\n",
    "# Connect to the SQLite database\n",
    "engine = create_engine('sqlite:///books.db')\n",
    "Base = declarative_base()\n",
    "\n",
    "# Define the Book model matching the 'book' table\n",
    "class Book(Base):\n",
    "    __tablename__ = 'book'\n",
    "    id = Column(Integer, primary_key=True)\n",
    "    title = Column(String)\n",
    "\n",
    "# Create the table if it does not exist\n",
    "Base.metadata.create_all(engine)\n",
    "\n",
    "# Create a session to interact with the database\n",
    "Session = sessionmaker(bind=engine)\n",
    "session = Session()\n",
    "\n",
    "# Query all book titles from the 'book' table\n",
    "titles = session.query(Book.title).all()\n",
    "\n",
    "# Print the results\n",
    "print(\"Book Titles:\")\n",
    "for title in titles:\n",
    "    print(title[0])\n",
    "\n",
    "# Close the session\n",
    "session.close()"
   ]
  },
  {
   "cell_type": "markdown",
   "id": "947671f4",
   "metadata": {},
   "source": [
    "- Engine Creation: sa.create_engine('sqlite:///books.db') connects to the SQLite database.\n",
    "\n",
    "- Context Manager: with engine.connect() as conn ensures proper connection handling.\n",
    "\n",
    "- Query Execution: sa.text() wraps the SQL query to select titles in alphabetical order.\n",
    "\n",
    "- Result Iteration: Loop through the result set and print each title."
   ]
  },
  {
   "cell_type": "code",
   "execution_count": 11,
   "id": "a7652b8c",
   "metadata": {},
   "outputs": [],
   "source": [
    "import sqlalchemy as sa\n",
    "\n",
    "# Create engine and connect to the database\n",
    "engine = sa.create_engine('sqlite:///books.db')\n",
    "with engine.connect() as conn:\n",
    "    # Execute the query\n",
    "    result = conn.execute(sa.text(\"SELECT title FROM book ORDER BY title\"))\n",
    "    # Print titles\n",
    "    for row in result:\n",
    "        print(row.title)"
   ]
  }
 ],
 "metadata": {
  "kernelspec": {
   "display_name": "base",
   "language": "python",
   "name": "python3"
  },
  "language_info": {
   "codemirror_mode": {
    "name": "ipython",
    "version": 3
   },
   "file_extension": ".py",
   "mimetype": "text/x-python",
   "name": "python",
   "nbconvert_exporter": "python",
   "pygments_lexer": "ipython3",
   "version": "3.12.7"
  }
 },
 "nbformat": 4,
 "nbformat_minor": 5
}
